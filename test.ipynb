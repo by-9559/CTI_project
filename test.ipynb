{
 "cells": [
  {
   "cell_type": "code",
   "execution_count": 2,
   "metadata": {},
   "outputs": [
    {
     "data": {
      "text/plain": [
       "'C:\\\\Users\\\\war7n\\\\Desktop\\\\screenshot\\\\'"
      ]
     },
     "execution_count": 2,
     "metadata": {},
     "output_type": "execute_result"
    }
   ],
   "source": [
    "import os\n",
    "os.path.join(os.path.expanduser(\"~\"), 'Desktop') + \"\\\\screenshot\\\\\""
   ]
  },
  {
   "cell_type": "code",
   "execution_count": 21,
   "metadata": {},
   "outputs": [
    {
     "name": "stdout",
     "output_type": "stream",
     "text": [
      "净含量 ['净.量']\n",
      "地址 ['地址']\n",
      "生产者 ['生产商', '被委托方', '被委托生产者', '被委托生产企业', '厂家']\n",
      "联系方式 ['联系方式', '客服热线', '电话']\n",
      "生产日期 ['生产日期']\n",
      "贮存条件 ['贮.条件', '贮.方法']\n",
      "食品生产许可证编号 []\n",
      "产品标准代号 []\n",
      "辐照食品 ['辐照食品']\n",
      "转基因食品 ['转基因食品']\n",
      "质量（品质）等级 ['质量（品质）等级']\n"
     ]
    }
   ],
   "source": [
    "import pandas as pd\n",
    "b = {}\n",
    "b[\"净含量\"] = [\"净.量\"]\n",
    "b[\"地址\"] =  [\"地址\"]\n",
    "b[\"生产者\"] = [\"生产商\", \"被委托方\", '被委托生产者', \"被委托生产企业\", \"厂家\"]\n",
    "b[\"联系方式\"] =  [\"联系方式\",\"客服热线\",\"电话\"]\n",
    "b[\"生产日期\"] = [\"生产日期\"]\n",
    "b[\"贮存条件\"] =  [\"贮.条件\",\"贮.方法\"]\n",
    "b[\"食品生产许可证编号\"] =  []\n",
    "b[\"产品标准代号\"] =  []\n",
    "b[\"辐照食品\"] = [\"辐照食品\"]\n",
    "b[\"转基因食品\"] = [\"转基因食品\"]\n",
    "b[\"质量（品质）等级\"] =  [\"质量（品质）等级\"]\n",
    "a = []\n",
    "for k,v in b.items():\n",
    "    print(k, v)\n",
    "    a.append({\"标签名称\":k,\n",
    "    '标签描述':\",\".join(v)})\n",
    "    # b[k] = \",\".join(v)\n",
    "pd.DataFrame(a).to_excel(\"标签描述字典.xlsx\",index=False)"
   ]
  },
  {
   "cell_type": "code",
   "execution_count": 35,
   "metadata": {},
   "outputs": [
    {
     "name": "stdout",
     "output_type": "stream",
     "text": [
      "净.量\n",
      "地址\n",
      "生产商,被委托方,被委托生产者,被委托生产企业,厂家\n",
      "联系方式,客服热线,电话\n",
      "生产日期\n",
      "贮.条件,贮.方法\n",
      "辐照食品\n",
      "转基因食品\n",
      "质量（品质）等级\n"
     ]
    }
   ],
   "source": [
    "import numpy as np\n",
    "ls = pd.read_excel(\"标签描述字典.xlsx\").to_dict('records')\n",
    "ls\n",
    "for i in ls:\n",
    "    if not (i['标签描述'] is np.nan):\n",
    "        print(i['标签描述'])"
   ]
  },
  {
   "cell_type": "code",
   "execution_count": 39,
   "metadata": {},
   "outputs": [
    {
     "data": {
      "text/plain": [
       "('Input', '111.png')"
      ]
     },
     "execution_count": 39,
     "metadata": {},
     "output_type": "execute_result"
    }
   ],
   "source": [
    "import os \n",
    "path = 'Input/111.png'\n",
    "os.path.splitext(path)\n",
    "\n",
    "os.path.split(path)"
   ]
  },
  {
   "cell_type": "code",
   "execution_count": 48,
   "metadata": {},
   "outputs": [
    {
     "name": "stderr",
     "output_type": "stream",
     "text": [
      "21--行----2022-04-14 09:44:51,324 - test - DEBUG - debug message\n",
      "21--行----2022-04-14 09:44:51,324 - test - DEBUG - debug message\n",
      "21--行----2022-04-14 09:44:51,324 - test - DEBUG - debug message\n",
      "22--行----2022-04-14 09:44:51,328 - test - INFO - info message\n",
      "22--行----2022-04-14 09:44:51,328 - test - INFO - info message\n",
      "22--行----2022-04-14 09:44:51,328 - test - INFO - info message\n",
      "C:\\Users\\war7n\\AppData\\Local\\Temp/ipykernel_7056/1934056256.py:23: DeprecationWarning: The 'warn' method is deprecated, use 'warning' instead\n",
      "  logger.warn(\"warn message\")\n",
      "23--行----2022-04-14 09:44:51,331 - test - WARNING - warn message\n",
      "23--行----2022-04-14 09:44:51,331 - test - WARNING - warn message\n",
      "23--行----2022-04-14 09:44:51,331 - test - WARNING - warn message\n",
      "24--行----2022-04-14 09:44:51,333 - test - ERROR - error message\n",
      "24--行----2022-04-14 09:44:51,333 - test - ERROR - error message\n",
      "24--行----2022-04-14 09:44:51,333 - test - ERROR - error message\n",
      "25--行----2022-04-14 09:44:51,336 - test - CRITICAL - critical message11\n",
      "25--行----2022-04-14 09:44:51,336 - test - CRITICAL - critical message11\n",
      "25--行----2022-04-14 09:44:51,336 - test - CRITICAL - critical message11\n"
     ]
    }
   ],
   "source": [
    "import logging\n",
    "import time\n",
    "\n",
    "log_name = \"%s.log\"%time.strftime(\"%Y%m%d%H%M%S\", time.localtime()) \n",
    "logger = logging.getLogger(\"test\")\n",
    "logger.setLevel(logging.DEBUG)\n",
    "# 建立一个filehandler来把日志记录在文件里，级别为debug以上\n",
    "fh = logging.FileHandler(\"log/\"+log_name)\n",
    "fh.setLevel(logging.DEBUG)\n",
    "# 建立一个streamhandler来把日志打在CMD窗口上，级别为error以上\n",
    "ch = logging.StreamHandler()\n",
    "ch.setLevel(logging.DEBUG)\n",
    "# 设置日志格式\n",
    "formatter = logging.Formatter(\"%(lineno)d--行----%(asctime)s - %(name)s - %(levelname)s - %(message)s\")\n",
    "ch.setFormatter(formatter)\n",
    "fh.setFormatter(formatter)\n",
    "#将相应的handler添加在logger对象中\n",
    "logger.addHandler(ch)\n",
    "logger.addHandler(fh)\n",
    "# 开始打日志\n",
    "logger.debug(\"debug message\")\n",
    "logger.info(\"info message\")\n",
    "logger.warn(\"warn message\")\n",
    "logger.error(\"error message\")\n",
    "logger.critical(\"critical message11\")"
   ]
  }
 ],
 "metadata": {
  "interpreter": {
   "hash": "b3ba2566441a7c06988d0923437866b63cedc61552a5af99d1f4fb67d367b25f"
  },
  "kernelspec": {
   "display_name": "Python 3.9.7 ('base')",
   "language": "python",
   "name": "python3"
  },
  "language_info": {
   "codemirror_mode": {
    "name": "ipython",
    "version": 3
   },
   "file_extension": ".py",
   "mimetype": "text/x-python",
   "name": "python",
   "nbconvert_exporter": "python",
   "pygments_lexer": "ipython3",
   "version": "3.9.7"
  },
  "orig_nbformat": 4
 },
 "nbformat": 4,
 "nbformat_minor": 2
}
