{
 "cells": [
  {
   "cell_type": "code",
   "execution_count": 2,
   "metadata": {},
   "outputs": [
    {
     "data": {
      "text/plain": [
       "'C:\\\\Users\\\\war7n\\\\Desktop\\\\screenshot\\\\'"
      ]
     },
     "execution_count": 2,
     "metadata": {},
     "output_type": "execute_result"
    }
   ],
   "source": [
    "import os\n",
    "os.path.join(os.path.expanduser(\"~\"), 'Desktop') + \"\\\\screenshot\\\\\""
   ]
  },
  {
   "cell_type": "code",
   "execution_count": 21,
   "metadata": {},
   "outputs": [
    {
     "name": "stdout",
     "output_type": "stream",
     "text": [
      "净含量 ['净.量']\n",
      "地址 ['地址']\n",
      "生产者 ['生产商', '被委托方', '被委托生产者', '被委托生产企业', '厂家']\n",
      "联系方式 ['联系方式', '客服热线', '电话']\n",
      "生产日期 ['生产日期']\n",
      "贮存条件 ['贮.条件', '贮.方法']\n",
      "食品生产许可证编号 []\n",
      "产品标准代号 []\n",
      "辐照食品 ['辐照食品']\n",
      "转基因食品 ['转基因食品']\n",
      "质量（品质）等级 ['质量（品质）等级']\n"
     ]
    }
   ],
   "source": [
    "import pandas as pd\n",
    "b = {}\n",
    "b[\"净含量\"] = [\"净.量\"]\n",
    "b[\"地址\"] =  [\"地址\"]\n",
    "b[\"生产者\"] = [\"生产商\", \"被委托方\", '被委托生产者', \"被委托生产企业\", \"厂家\"]\n",
    "b[\"联系方式\"] =  [\"联系方式\",\"客服热线\",\"电话\"]\n",
    "b[\"生产日期\"] = [\"生产日期\"]\n",
    "b[\"贮存条件\"] =  [\"贮.条件\",\"贮.方法\"]\n",
    "b[\"食品生产许可证编号\"] =  []\n",
    "b[\"产品标准代号\"] =  []\n",
    "b[\"辐照食品\"] = [\"辐照食品\"]\n",
    "b[\"转基因食品\"] = [\"转基因食品\"]\n",
    "b[\"质量（品质）等级\"] =  [\"质量（品质）等级\"]\n",
    "a = []\n",
    "for k,v in b.items():\n",
    "    print(k, v)\n",
    "    a.append({\"标签名称\":k,\n",
    "    '标签描述':\",\".join(v)})\n",
    "    # b[k] = \",\".join(v)\n",
    "pd.DataFrame(a).to_excel(\"标签描述字典.xlsx\",index=False)"
   ]
  },
  {
   "cell_type": "code",
   "execution_count": 35,
   "metadata": {},
   "outputs": [
    {
     "name": "stdout",
     "output_type": "stream",
     "text": [
      "净.量\n",
      "地址\n",
      "生产商,被委托方,被委托生产者,被委托生产企业,厂家\n",
      "联系方式,客服热线,电话\n",
      "生产日期\n",
      "贮.条件,贮.方法\n",
      "辐照食品\n",
      "转基因食品\n",
      "质量（品质）等级\n"
     ]
    }
   ],
   "source": [
    "import numpy as np\n",
    "ls = pd.read_excel(\"标签描述字典.xlsx\").to_dict('records')\n",
    "ls\n",
    "for i in ls:\n",
    "    if not (i['标签描述'] is np.nan):\n",
    "        print(i['标签描述'])"
   ]
  },
  {
   "cell_type": "code",
   "execution_count": 39,
   "metadata": {},
   "outputs": [
    {
     "data": {
      "text/plain": [
       "('Input', '111.png')"
      ]
     },
     "execution_count": 39,
     "metadata": {},
     "output_type": "execute_result"
    }
   ],
   "source": [
    "import os \n",
    "path = 'Input/111.png'\n",
    "os.path.splitext(path)\n",
    "os.path.split(path)"
   ]
  },
  {
   "cell_type": "code",
   "execution_count": 1,
   "metadata": {},
   "outputs": [],
   "source": [
    "from main import * \n",
    "# dir = 'Input/111.png'\n",
    "# ll = Img_ocr(dir)\n",
    "# ll.img_dir\n",
    "a = 'C:\\\\Users\\\\war7n\\\\Desktop\\\\screenshot\\\\111'\n"
   ]
  },
  {
   "cell_type": "code",
   "execution_count": 27,
   "metadata": {},
   "outputs": [
    {
     "data": {
      "text/plain": [
       "{'生产者名称': '深圳保时健生物工程有限公司',\n",
       " '社会信用代码(身份证号码)': '91440300781373511Q',\n",
       " '法定代表人(负责人)': '肖小元',\n",
       " '住所': '深圳市龙岗区宝龙街道宝龙社区锦龙一路9号多利工业厂区C栋2-3楼',\n",
       " '生产地址': '深圳市龙岗区宝龙街道宝龙社区锦龙一路9号多利工业厂区C栋2-3楼',\n",
       " '食品类别': '保健食品;糖果制品;特殊膳食食品;饮料',\n",
       " '许可证编号': 'SC12744030701096',\n",
       " '日常监督管理机构': '深圳市市场监督管理局龙岗监管局',\n",
       " '日常监督管理人员': '由日常监督管理机构指定;由日常监督管理机构指定',\n",
       " '发证机关': '深圳市市场监督管理局',\n",
       " '签发人': '\\\\',\n",
       " '发证日期': '2019-03-07',\n",
       " '证书有效期': '2022-02-06',\n",
       " '许可明细': '食品、食品添加剂类别：保健食品类别编号：2702类别名称：粉剂品种明细：葡萄糖酸锌粉备注：批准文号:国食健字G20141327,委托企业名称:深圳市贝蜜儿生物制品有限公司,委托企业地址:深圳市罗湖区桂园街道宝安南路3083号蔡屋围发展大厦1505A食品、食品添加剂类别：糖果制品类别编号：1301类别名称：糖果品种明细：压片糖果备注：—食品、食品添加剂类别：饮料类别编号：0606类别名称：固体饮料品种明细：风味固体饮料、蛋白固体饮料、果蔬固体饮料、茶固体饮料、咖啡固体饮料、可可粉固体饮料、其他固体饮料（植物固体饮料、营养素固体饮料、谷物固体饮料、食用菌固体饮料、益生菌固体饮料、泡腾片）备注：—食品、食品添加剂类别：保健食品类别编号：2701类别名称：片剂品种明细：安纽莱牌维生素C片备注：国食健字G20140638,委托企业名称:深圳市君辉生物科技有限公司,委托企业地址:深圳市罗湖区笋岗东路3002号万通大厦1401食品、食品添加剂类别：保健食品类别编号：2718类别名称：其他类别品种明细：益生元牌益生菌冲剂备注：国食健字G20080082,委托企业名称:深圳市东达技术发展有限公司,委托企业地址:深圳市龙岗区坪地街道坪西社区龙岭南路26号A栋食品、食品添加剂类别：保健食品类别编号：2702类别名称：粉剂品种明细：乳清牌蛋白粉备注：\\\\食品、食品添加剂类别：保健食品类别编号：2701类别名称：片剂品种明细：安纽莱牌维生素CE咀嚼片备注：\\\\食品、食品添加剂类别：保健食品类别编号：2703类别名称：颗粒剂品种明细：鑫福来牌乳酸钙颗粒备注：批准文号:国食健字G20110502,委托企业名称:惠州市鑫福来实业发展有限公司,委托企业地址:广东省惠州市惠阳区淡水镇洋纳工业区食品、食品添加剂类别：保健食品类别编号：2701类别名称：片剂品种明细：安纽莱牌多种维生素钙片备注：\\\\食品、食品添加剂类别：保健食品类别编号：2701类别名称：片剂品种明细：安纽莱牌B族维生素片备注：\\\\食品、食品添加剂类别：保健食品类别编号：2705类别名称：硬胶囊剂品种明细：熹熹牌芪戟胶囊备注：国食健字G20110107,委托企业名称:熹熹生物科技（深圳）有限公司,委托企业地址:深圳市罗湖区春风路新都酒店317室食品、食品添加剂类别：特殊膳食食品类别编号：3003类别名称：其他特殊膳食食品品种明细：辅食营养补充品（辅食营养素补充食品、辅食营养素撒剂）备注：—外设仓库地址：'}"
      ]
     },
     "execution_count": 27,
     "metadata": {},
     "output_type": "execute_result"
    }
   ],
   "source": [
    "import pandas as pd\n",
    "df = pd.read_html(\"test.html\")\n",
    "df = list(df[0].values)\n",
    "{i[0]:i[1] for i in df}\n",
    "\n"
   ]
  }
 ],
 "metadata": {
  "interpreter": {
   "hash": "b3ba2566441a7c06988d0923437866b63cedc61552a5af99d1f4fb67d367b25f"
  },
  "kernelspec": {
   "display_name": "Python 3.9.7 ('base')",
   "language": "python",
   "name": "python3"
  },
  "language_info": {
   "codemirror_mode": {
    "name": "ipython",
    "version": 3
   },
   "file_extension": ".py",
   "mimetype": "text/x-python",
   "name": "python",
   "nbconvert_exporter": "python",
   "pygments_lexer": "ipython3",
   "version": "3.9.7"
  },
  "orig_nbformat": 4
 },
 "nbformat": 4,
 "nbformat_minor": 2
}
