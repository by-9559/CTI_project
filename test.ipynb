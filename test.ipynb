{
 "cells": [
  {
   "cell_type": "code",
   "execution_count": 2,
   "metadata": {},
   "outputs": [
    {
     "data": {
      "text/plain": [
       "'C:\\\\Users\\\\war7n\\\\Desktop\\\\screenshot\\\\'"
      ]
     },
     "execution_count": 2,
     "metadata": {},
     "output_type": "execute_result"
    }
   ],
   "source": [
    "import os\n",
    "os.path.join(os.path.expanduser(\"~\"), 'Desktop') + \"\\\\screenshot\\\\\"\n",
    "\"sudo apt-get install python3-distutils\""
   ]
  },
  {
   "cell_type": "code",
   "execution_count": 10,
   "metadata": {},
   "outputs": [
    {
     "name": "stdout",
     "output_type": "stream",
     "text": [
      "净含量 ['净.量']\n",
      "地址 ['地址']\n",
      "生产者 ['生产商', '被委托方', '被委托生产者', '被委托生产企业', '厂家']\n",
      "联系方式 ['联系方式', '客服热线', '电话']\n",
      "生产日期 ['生产日期']\n",
      "贮存条件 ['贮.条件', '贮.方法']\n",
      "食品生产许可证编号 []\n",
      "产品标准代号 []\n",
      "辐照食品 ['辐照食品']\n",
      "转基因食品 ['转基因食品']\n",
      "质量（品质）等级 ['质量（品质）等级']\n"
     ]
    },
    {
     "data": {
      "text/plain": [
       "False"
      ]
     },
     "execution_count": 10,
     "metadata": {},
     "output_type": "execute_result"
    }
   ],
   "source": [
    "import pandas as pd\n",
    "b = {}\n",
    "b[\"净含量\"] = [\"净.量\"]\n",
    "b[\"地址\"] =  [\"地址\"]\n",
    "b[\"生产者\"] = [\"生产商\", \"被委托方\", '被委托生产者', \"被委托生产企业\", \"厂家\"]\n",
    "b[\"联系方式\"] =  [\"联系方式\",\"客服热线\",\"电话\"]\n",
    "b[\"生产日期\"] = [\"生产日期\"]\n",
    "b[\"贮存条件\"] =  [\"贮.条件\",\"贮.方法\"]\n",
    "b[\"食品生产许可证编号\"] =  []\n",
    "b[\"产品标准代号\"] =  []\n",
    "b[\"辐照食品\"] = [\"辐照食品\"]\n",
    "b[\"转基因食品\"] = [\"转基因食品\"]\n",
    "b[\"质量（品质）等级\"] =  [\"质量（品质）等级\"]\n",
    "a = []\n",
    "for k,v in b.items():\n",
    "    print(k, v)\n",
    "    a.append({\"标签名称\":k,\n",
    "    '标签描述':\",\".join(v)})\n",
    "    # b[k] = \",\".join(v)\n",
    "df = pd.DataFrame(a)#.to_excel(\"标签描述字典.xlsx\",index=False)\n",
    "type(df)  == pd.DataFrame\n",
    "type(df)  == str"
   ]
  },
  {
   "cell_type": "code",
   "execution_count": 35,
   "metadata": {},
   "outputs": [
    {
     "name": "stdout",
     "output_type": "stream",
     "text": [
      "净.量\n",
      "地址\n",
      "生产商,被委托方,被委托生产者,被委托生产企业,厂家\n",
      "联系方式,客服热线,电话\n",
      "生产日期\n",
      "贮.条件,贮.方法\n",
      "辐照食品\n",
      "转基因食品\n",
      "质量（品质）等级\n"
     ]
    }
   ],
   "source": [
    "import numpy as np\n",
    "ls = pd.read_excel(\"标签描述字典.xlsx\").to_dict('records')\n",
    "ls\n",
    "for i in ls:\n",
    "    if not (i['标签描述'] is np.nan):\n",
    "        print(i['标签描述'])"
   ]
  },
  {
   "cell_type": "code",
   "execution_count": 39,
   "metadata": {},
   "outputs": [
    {
     "data": {
      "text/plain": [
       "('Input', '111.png')"
      ]
     },
     "execution_count": 39,
     "metadata": {},
     "output_type": "execute_result"
    }
   ],
   "source": [
    "import os \n",
    "path = 'Input/111.png'\n",
    "os.path.splitext(path)\n",
    "os.path.split(path)"
   ]
  },
  {
   "cell_type": "code",
   "execution_count": 21,
   "metadata": {},
   "outputs": [
    {
     "data": {
      "text/plain": [
       "3"
      ]
     },
     "execution_count": 21,
     "metadata": {},
     "output_type": "execute_result"
    }
   ],
   "source": [
    "from main import * \n",
    "# dir = 'Input/111.png'\n",
    "# ll = Img_ocr(dir)\n",
    "# ll.img_dir\n",
    "a = 'C:\\\\Users\\\\war7n\\\\Desktop\\\\screenshot\\\\111'\n",
    "a.count(\"1\")\n"
   ]
  },
  {
   "cell_type": "code",
   "execution_count": 23,
   "metadata": {},
   "outputs": [
    {
     "data": {
      "text/plain": [
       "24"
      ]
     },
     "execution_count": 23,
     "metadata": {},
     "output_type": "execute_result"
    }
   ],
   "source": [
    "import requests\n",
    "from lxml import etree\n",
    "headers = {\n",
    "    \"User-Agent\": \"Mozilla/5.0 (Windows NT 10.0; Win64; x64) AppleWebKit/537.36 (KHTML, like Gecko) Chrome/100.0.4896.75 Safari/537.36 Edg/100.0.1185.39\"\n",
    "}\n",
    "url = \"https://bbs.huaweicloud.com/forum/forum-1407-1.html\"\n",
    "r = requests.get(url,headers=headers)\n",
    "\n",
    "s = etree.HTML(r.text)\n",
    "a = s.xpath(\"//*[@class='showul']/li/div[2]/p[1]/a[2]/text()\")\n",
    "len(a)\n"
   ]
  },
  {
   "cell_type": "code",
   "execution_count": 5,
   "metadata": {},
   "outputs": [
    {
     "name": "stdout",
     "output_type": "stream",
     "text": [
      "2\n"
     ]
    },
    {
     "ename": "AttributeError",
     "evalue": "'t2' object has no attribute 'v1'",
     "output_type": "error",
     "traceback": [
      "\u001b[1;31m---------------------------------------------------------------------------\u001b[0m",
      "\u001b[1;31mAttributeError\u001b[0m                            Traceback (most recent call last)",
      "\u001b[1;32m~\\AppData\\Local\\Temp/ipykernel_9000/2601223953.py\u001b[0m in \u001b[0;36m<module>\u001b[1;34m\u001b[0m\n\u001b[0;32m     13\u001b[0m \u001b[0mprint\u001b[0m\u001b[1;33m(\u001b[0m\u001b[0ma\u001b[0m\u001b[1;33m.\u001b[0m\u001b[0mv1\u001b[0m\u001b[1;33m)\u001b[0m\u001b[1;33m\u001b[0m\u001b[1;33m\u001b[0m\u001b[0m\n\u001b[0;32m     14\u001b[0m \u001b[0mb\u001b[0m \u001b[1;33m=\u001b[0m \u001b[0mt2\u001b[0m\u001b[1;33m(\u001b[0m\u001b[0ma\u001b[0m\u001b[1;33m)\u001b[0m\u001b[1;33m\u001b[0m\u001b[1;33m\u001b[0m\u001b[0m\n\u001b[1;32m---> 15\u001b[1;33m \u001b[0mb\u001b[0m\u001b[1;33m.\u001b[0m\u001b[0mv1\u001b[0m\u001b[1;33m\u001b[0m\u001b[1;33m\u001b[0m\u001b[0m\n\u001b[0m",
      "\u001b[1;31mAttributeError\u001b[0m: 't2' object has no attribute 'v1'"
     ]
    }
   ],
   "source": [
    "class t1:\n",
    "    def __init__(self,v1 = 2,v2 =3):\n",
    "        self.v1 = v1\n",
    "        self.v2 = v2\n",
    "\n",
    "class t2:\n",
    "    def __init__(self,ll):\n",
    "        ll.__init__()\n",
    "        # self = ll\n",
    "\n",
    "\n",
    "a = t1()\n",
    "print(a.v1)\n",
    "b = t2(a)\n",
    "b.v1\n"
   ]
  }
 ],
 "metadata": {
  "interpreter": {
   "hash": "b3ba2566441a7c06988d0923437866b63cedc61552a5af99d1f4fb67d367b25f"
  },
  "kernelspec": {
   "display_name": "Python 3.9.7 ('base')",
   "language": "python",
   "name": "python3"
  },
  "language_info": {
   "codemirror_mode": {
    "name": "ipython",
    "version": 3
   },
   "file_extension": ".py",
   "mimetype": "text/x-python",
   "name": "python",
   "nbconvert_exporter": "python",
   "pygments_lexer": "ipython3",
   "version": "3.9.7"
  },
  "orig_nbformat": 4
 },
 "nbformat": 4,
 "nbformat_minor": 2
}
